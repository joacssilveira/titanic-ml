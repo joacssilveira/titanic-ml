{
 "cells": [
  {
   "attachments": {},
   "cell_type": "markdown",
   "metadata": {},
   "source": [
    "En esta notebook traeremos los modelos previamente entrenados y haremos predicciones del target 'Survived'. Recordemos que como la base de datos pertenece a una competencia, no tenemos el target de los datos a los cuales les haremos predicciones. Guardaremos los resultados para luego subirlos a la página de Kaggel y ahí verificar que tan bondadosa fue nuestra predicción."
   ]
  },
  {
   "cell_type": "code",
   "execution_count": 1,
   "metadata": {},
   "outputs": [],
   "source": [
    "# importo todas las librerías necesarias\n",
    "import pandas as pd\n",
    "import matplotlib.pyplot as plt\n",
    "import math\n",
    "import seaborn as sns\n",
    "from sklearn.model_selection import train_test_split\n",
    "from sklearn.preprocessing import StandardScaler\n",
    "from sklearn.linear_model import LogisticRegression\n",
    "from sklearn import tree\n",
    "from sklearn.model_selection import GridSearchCV\n",
    "from sklearn.model_selection import StratifiedKFold\n",
    "from sklearn.metrics import classification_report, confusion_matrix\n",
    "from sklearn.neighbors import KNeighborsClassifier\n",
    "import numpy as np\n",
    "import pickle"
   ]
  },
  {
   "attachments": {},
   "cell_type": "markdown",
   "metadata": {},
   "source": [
    "Primero importamos los datos y los \"normalizamos\""
   ]
  },
  {
   "cell_type": "code",
   "execution_count": 2,
   "metadata": {},
   "outputs": [],
   "source": [
    "df = pd.read_csv('./db/titanic/test_with_age.csv',encoding='utf-8')\n",
    "df.drop(columns=['Unnamed: 0','passengerid','name','ticket','cabin'],axis=1,inplace=True)\n",
    "df = pd.get_dummies(df, columns=['pclass','sex','sibsp','parch','embarked'],drop_first=True)\n",
    "df.drop(columns=['sibsp_8','parch_9'],axis=1,inplace=True)\n",
    "df.fare.fillna(value=0,inplace=True)"
   ]
  },
  {
   "cell_type": "code",
   "execution_count": 6,
   "metadata": {},
   "outputs": [],
   "source": [
    "data='./db/titanic/train_clean.csv'\n",
    "train = pd.read_csv(data ,sep='\\t', encoding='utf-8')\n",
    "X_train = train.drop(columns=['Unnamed: 0', 'survived'],axis=1)\n",
    "y_train = train.survived\n",
    "scaler = StandardScaler()\n",
    "X_train = scaler.fit_transform(X_train.values)"
   ]
  },
  {
   "cell_type": "code",
   "execution_count": 7,
   "metadata": {},
   "outputs": [],
   "source": [
    "\n",
    "X = scaler.transform(df.values)"
   ]
  },
  {
   "attachments": {},
   "cell_type": "markdown",
   "metadata": {},
   "source": [
    "Traigo el modelo de clasificación por regresión logistica."
   ]
  },
  {
   "cell_type": "code",
   "execution_count": 10,
   "metadata": {},
   "outputs": [
    {
     "name": "stderr",
     "output_type": "stream",
     "text": [
      "c:\\Users\\Joaquin\\anaconda3\\lib\\site-packages\\sklearn\\linear_model\\_sag.py:352: ConvergenceWarning: The max_iter was reached which means the coef_ did not converge\n",
      "  warnings.warn(\n"
     ]
    },
    {
     "data": {
      "text/plain": [
       "LogisticRegression(C=10, penalty='l1', solver='saga')"
      ]
     },
     "execution_count": 10,
     "metadata": {},
     "output_type": "execute_result"
    }
   ],
   "source": [
    "with open('./models/model_clf.pkl', 'rb') as model_clf:\n",
    "        model_clf = pickle.load(model_clf)\n",
    "model_clf.fit(X_train,y_train)"
   ]
  },
  {
   "cell_type": "code",
   "execution_count": 11,
   "metadata": {},
   "outputs": [],
   "source": [
    "y_prediction = model_clf.predict(X)"
   ]
  },
  {
   "cell_type": "code",
   "execution_count": null,
   "metadata": {},
   "outputs": [],
   "source": []
  },
  {
   "cell_type": "code",
   "execution_count": null,
   "metadata": {},
   "outputs": [],
   "source": [
    "data_to_get_id = pd.read_csv('./db/titanic/test_with_age.csv',encoding='utf-8')\n",
    "data_to_get_id.passengerid\n",
    "data_ = {'PassengerId':data_to_get_id.passengerid,'Survived':y_prediction}\n",
    "out = pd.DataFrame(data_)\n",
    "out\n",
    "filename = './db/titanic/Titanic Predictions 1.csv'\n",
    "out.to_csv(filename,index=False)\n",
    "\n",
    "print('Saved file: ' + filename)"
   ]
  }
 ],
 "metadata": {
  "kernelspec": {
   "display_name": "base",
   "language": "python",
   "name": "python3"
  },
  "language_info": {
   "codemirror_mode": {
    "name": "ipython",
    "version": 3
   },
   "file_extension": ".py",
   "mimetype": "text/x-python",
   "name": "python",
   "nbconvert_exporter": "python",
   "pygments_lexer": "ipython3",
   "version": "3.9.13"
  },
  "orig_nbformat": 4,
  "vscode": {
   "interpreter": {
    "hash": "e212ddada2fa9b1124c35b5a5f2825036c0803ac3ae1e3bf3f3e2b9ceae50d71"
   }
  }
 },
 "nbformat": 4,
 "nbformat_minor": 2
}

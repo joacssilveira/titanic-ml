{
 "cells": [
  {
   "attachments": {},
   "cell_type": "markdown",
   "metadata": {},
   "source": [
    "En esta notebook traeremos los modelos previamente entrenados y haremos predicciones del target 'Survived'. Recordemos que como la base de datos pertenece a una competencia, no tenemos el target de los datos a los cuales les haremos predicciones. Guardaremos los resultados para luego subirlos a la página de Kaggel y ahí verificar que tan bondadosa fue nuestra predicción."
   ]
  },
  {
   "cell_type": "code",
   "execution_count": 13,
   "metadata": {},
   "outputs": [],
   "source": [
    "# importo todas las librerías necesarias\n",
    "import pandas as pd\n",
    "import matplotlib.pyplot as plt\n",
    "import math\n",
    "import seaborn as sns\n",
    "from sklearn.model_selection import train_test_split\n",
    "from sklearn.preprocessing import StandardScaler\n",
    "from sklearn.linear_model import LogisticRegression\n",
    "from sklearn import tree\n",
    "from sklearn.model_selection import GridSearchCV\n",
    "from sklearn.model_selection import StratifiedKFold\n",
    "from sklearn.metrics import classification_report, confusion_matrix\n",
    "from sklearn.neighbors import KNeighborsClassifier\n",
    "import numpy as np\n",
    "import pickle"
   ]
  },
  {
   "attachments": {},
   "cell_type": "markdown",
   "metadata": {},
   "source": [
    "Primero importamos los datos y los \"normalizamos\""
   ]
  },
  {
   "cell_type": "code",
   "execution_count": 14,
   "metadata": {},
   "outputs": [],
   "source": [
    "df = pd.read_csv('./db/titanic/test_with_age.csv',encoding='utf-8')\n",
    "df.drop(columns=['Unnamed: 0','passengerid','name','ticket','cabin'],axis=1,inplace=True)\n",
    "df = pd.get_dummies(df, columns=['pclass','sex','sibsp','parch','embarked'],drop_first=True)\n",
    "df.drop(columns=['sibsp_8','parch_9'],axis=1,inplace=True)\n",
    "df.fare.fillna(value=0,inplace=True)"
   ]
  },
  {
   "cell_type": "code",
   "execution_count": 15,
   "metadata": {},
   "outputs": [],
   "source": [
    "data='./db/titanic/train_clean.csv'\n",
    "train = pd.read_csv(data ,sep='\\t', encoding='utf-8')\n",
    "X_ = train.drop(columns=['Unnamed: 0', 'survived'],axis=1)\n",
    "y = train.survived\n",
    "X_train, X_test, y_train, y_test = train_test_split(X_, y,stratify=y, random_state=24)\n",
    "scaler = StandardScaler()\n",
    "X_train = scaler.fit_transform(X_train.values)"
   ]
  },
  {
   "cell_type": "code",
   "execution_count": 16,
   "metadata": {},
   "outputs": [],
   "source": [
    "\n",
    "X = scaler.transform(df.values)"
   ]
  },
  {
   "attachments": {},
   "cell_type": "markdown",
   "metadata": {},
   "source": [
    "Traigo el modelo de clasificación por regresión logistica."
   ]
  },
  {
   "cell_type": "code",
   "execution_count": 17,
   "metadata": {},
   "outputs": [
    {
     "data": {
      "text/plain": [
       "LogisticRegression(C=100, class_weight='balanced', penalty='l1',\n",
       "                   solver='liblinear')"
      ]
     },
     "execution_count": 17,
     "metadata": {},
     "output_type": "execute_result"
    }
   ],
   "source": [
    "with open('./models/model_clf.pkl', 'rb') as model_clf:\n",
    "        model_clf = pickle.load(model_clf)\n",
    "model_clf.fit(X_train,y_train)"
   ]
  },
  {
   "cell_type": "code",
   "execution_count": 18,
   "metadata": {},
   "outputs": [],
   "source": [
    "y_prediction = model_clf.predict(X)"
   ]
  },
  {
   "cell_type": "code",
   "execution_count": 19,
   "metadata": {},
   "outputs": [
    {
     "name": "stdout",
     "output_type": "stream",
     "text": [
      "Saved file: ./db/titanic/Titanic Predictions 1model_clf.csv\n"
     ]
    }
   ],
   "source": [
    "data_to_get_id = pd.read_csv('./db/titanic/test_with_age.csv',encoding='utf-8')\n",
    "data_to_get_id.passengerid\n",
    "data_ = {'PassengerId':data_to_get_id.passengerid,'Survived':y_prediction}\n",
    "out = pd.DataFrame(data_)\n",
    "out\n",
    "filename = './db/titanic/Titanic Predictions 1'+'model_clf'+'.csv'\n",
    "out.to_csv(filename,index=False)\n",
    "print('Saved file: ' + filename)"
   ]
  },
  {
   "attachments": {},
   "cell_type": "markdown",
   "metadata": {},
   "source": [
    "Traigo el modelo xgboost"
   ]
  },
  {
   "cell_type": "code",
   "execution_count": 20,
   "metadata": {},
   "outputs": [
    {
     "name": "stdout",
     "output_type": "stream",
     "text": [
      "Saved file: ./db/titanic/Titanic Predictions 1model_xgb.csv\n"
     ]
    }
   ],
   "source": [
    "with open('./models/model_xgb.pkl', 'rb') as model_xgb:\n",
    "        model_xgb = pickle.load(model_xgb)\n",
    "model_xgb.fit(X_train,y_train)\n",
    "\n",
    "y_prediction = model_xgb.predict(X)\n",
    "\n",
    "data_ = {'PassengerId':data_to_get_id.passengerid,'Survived':y_prediction}\n",
    "out = pd.DataFrame(data_)\n",
    "out\n",
    "filename = './db/titanic/Titanic Predictions 1'+'model_xgb'+'.csv'\n",
    "out.to_csv(filename,index=False)\n",
    "print('Saved file: ' + filename)"
   ]
  },
  {
   "attachments": {},
   "cell_type": "markdown",
   "metadata": {},
   "source": [
    "Ahora el modelo ligtgb"
   ]
  },
  {
   "cell_type": "code",
   "execution_count": 21,
   "metadata": {},
   "outputs": [
    {
     "name": "stdout",
     "output_type": "stream",
     "text": [
      "Saved file: ./db/titanic/Titanic Predictions 1model_lgb.csv\n"
     ]
    }
   ],
   "source": [
    "with open('./models/model_lgb.pkl', 'rb') as model_lgb:\n",
    "        model_lgb = pickle.load(model_lgb)\n",
    "model_lgb.fit(X_train,y_train)\n",
    "\n",
    "y_prediction = model_lgb.predict(X)\n",
    "\n",
    "data_ = {'PassengerId':data_to_get_id.passengerid,'Survived':y_prediction}\n",
    "out = pd.DataFrame(data_)\n",
    "out\n",
    "filename = './db/titanic/Titanic Predictions 1'+'model_lgb'+'.csv'\n",
    "out.to_csv(filename,index=False)\n",
    "print('Saved file: ' + filename)\n"
   ]
  },
  {
   "cell_type": "code",
   "execution_count": null,
   "metadata": {},
   "outputs": [],
   "source": []
  },
  {
   "cell_type": "code",
   "execution_count": 22,
   "metadata": {},
   "outputs": [
    {
     "ename": "AttributeError",
     "evalue": "Can't get attribute 'ClassifierWrapper' on <module '__main__'>",
     "output_type": "error",
     "traceback": [
      "\u001b[1;31m---------------------------------------------------------------------------\u001b[0m",
      "\u001b[1;31mAttributeError\u001b[0m                            Traceback (most recent call last)",
      "\u001b[1;32m~\\AppData\\Local\\Temp\\ipykernel_18948\\3808825287.py\u001b[0m in \u001b[0;36m<module>\u001b[1;34m\u001b[0m\n\u001b[0;32m      1\u001b[0m \u001b[1;32mwith\u001b[0m \u001b[0mopen\u001b[0m\u001b[1;33m(\u001b[0m\u001b[1;34m'./models/model.pkl'\u001b[0m\u001b[1;33m,\u001b[0m \u001b[1;34m'rb'\u001b[0m\u001b[1;33m)\u001b[0m \u001b[1;32mas\u001b[0m \u001b[0mmodel\u001b[0m\u001b[1;33m:\u001b[0m\u001b[1;33m\u001b[0m\u001b[1;33m\u001b[0m\u001b[0m\n\u001b[1;32m----> 2\u001b[1;33m         \u001b[0mmodel\u001b[0m \u001b[1;33m=\u001b[0m \u001b[0mpickle\u001b[0m\u001b[1;33m.\u001b[0m\u001b[0mload\u001b[0m\u001b[1;33m(\u001b[0m\u001b[0mmodel\u001b[0m\u001b[1;33m)\u001b[0m\u001b[1;33m\u001b[0m\u001b[1;33m\u001b[0m\u001b[0m\n\u001b[0m\u001b[0;32m      3\u001b[0m \u001b[0mmodel\u001b[0m\u001b[1;33m.\u001b[0m\u001b[0mfit\u001b[0m\u001b[1;33m(\u001b[0m\u001b[0mX_train\u001b[0m\u001b[1;33m,\u001b[0m\u001b[0my_train\u001b[0m\u001b[1;33m)\u001b[0m\u001b[1;33m\u001b[0m\u001b[1;33m\u001b[0m\u001b[0m\n\u001b[0;32m      4\u001b[0m \u001b[1;33m\u001b[0m\u001b[0m\n\u001b[0;32m      5\u001b[0m \u001b[0my_prediction\u001b[0m \u001b[1;33m=\u001b[0m \u001b[0mmodel\u001b[0m\u001b[1;33m.\u001b[0m\u001b[0mpredict\u001b[0m\u001b[1;33m(\u001b[0m\u001b[0mX\u001b[0m\u001b[1;33m)\u001b[0m\u001b[1;33m\u001b[0m\u001b[1;33m\u001b[0m\u001b[0m\n",
      "\u001b[1;31mAttributeError\u001b[0m: Can't get attribute 'ClassifierWrapper' on <module '__main__'>"
     ]
    }
   ],
   "source": [
    "with open('./models/model.pkl', 'rb') as model:\n",
    "        model = pickle.load(model)\n",
    "model.fit(X_train,y_train)\n",
    "\n",
    "y_prediction = model.predict(X)\n",
    "\n",
    "data_ = {'PassengerId':data_to_get_id.passengerid,'Survived':y_prediction}\n",
    "out = pd.DataFrame(data_)\n",
    "out\n",
    "filename = './db/titanic/Titanic Predictions 1'+'model'+'.csv'\n",
    "out.to_csv(filename,index=False)\n",
    "print('Saved file: ' + filename)"
   ]
  },
  {
   "cell_type": "code",
   "execution_count": null,
   "metadata": {},
   "outputs": [],
   "source": []
  }
 ],
 "metadata": {
  "kernelspec": {
   "display_name": "base",
   "language": "python",
   "name": "python3"
  },
  "language_info": {
   "codemirror_mode": {
    "name": "ipython",
    "version": 3
   },
   "file_extension": ".py",
   "mimetype": "text/x-python",
   "name": "python",
   "nbconvert_exporter": "python",
   "pygments_lexer": "ipython3",
   "version": "3.9.13"
  },
  "orig_nbformat": 4,
  "vscode": {
   "interpreter": {
    "hash": "e212ddada2fa9b1124c35b5a5f2825036c0803ac3ae1e3bf3f3e2b9ceae50d71"
   }
  }
 },
 "nbformat": 4,
 "nbformat_minor": 2
}
